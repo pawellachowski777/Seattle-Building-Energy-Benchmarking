{
 "cells": [
  {
   "cell_type": "markdown",
   "id": "92561e0b",
   "metadata": {},
   "source": [
    "https://www.energystar.gov/buildings/benchmark/understand_metrics/what_eui"
   ]
  },
  {
   "cell_type": "markdown",
   "id": "1a2ea0fe",
   "metadata": {},
   "source": [
    "dane źródłowe  \n",
    "https://data.seattle.gov/dataset/Performance-Ranges-By-Building-Type-2016/5exj-gm7b"
   ]
  },
  {
   "cell_type": "code",
   "execution_count": null,
   "id": "09dae239",
   "metadata": {},
   "outputs": [],
   "source": []
  }
 ],
 "metadata": {
  "kernelspec": {
   "display_name": "Python 3 (ipykernel)",
   "language": "python",
   "name": "python3"
  },
  "language_info": {
   "codemirror_mode": {
    "name": "ipython",
    "version": 3
   },
   "file_extension": ".py",
   "mimetype": "text/x-python",
   "name": "python",
   "nbconvert_exporter": "python",
   "pygments_lexer": "ipython3",
   "version": "3.10.1"
  }
 },
 "nbformat": 4,
 "nbformat_minor": 5
}
