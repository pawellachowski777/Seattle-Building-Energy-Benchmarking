{
 "cells": [
  {
   "cell_type": "code",
   "execution_count": 1,
   "id": "7e912380",
   "metadata": {},
   "outputs": [],
   "source": [
    "import pandas as pd\n",
    "import ast"
   ]
  },
  {
   "cell_type": "code",
   "execution_count": 2,
   "id": "ad3cc114",
   "metadata": {
    "scrolled": true
   },
   "outputs": [],
   "source": [
    "sea_2015 = pd.read_csv('data/2015-building-energy-benchmarking.csv')"
   ]
  },
  {
   "cell_type": "code",
   "execution_count": 3,
   "id": "946ddc50",
   "metadata": {},
   "outputs": [
    {
     "data": {
      "text/html": [
       "<div><div id=b141f5f5-1f2a-4568-a8cb-c93eb92d1357 style=\"display:none; background-color:#9D6CFF; color:white; width:200px; height:30px; padding-left:5px; border-radius:4px; flex-direction:row; justify-content:space-around; align-items:center;\" onmouseover=\"this.style.backgroundColor='#BA9BF8'\" onmouseout=\"this.style.backgroundColor='#9D6CFF'\" onclick=\"window.commands?.execute('create-mitosheet-from-dataframe-output');\">See Full Dataframe in Mito</div> <script> if (window.commands.hasCommand('create-mitosheet-from-dataframe-output')) document.getElementById('b141f5f5-1f2a-4568-a8cb-c93eb92d1357').style.display = 'flex' </script> <table border=\"1\" class=\"dataframe\">\n",
       "  <thead>\n",
       "    <tr style=\"text-align: right;\">\n",
       "      <th></th>\n",
       "      <th>OSEBuildingID</th>\n",
       "      <th>DataYear</th>\n",
       "      <th>BuildingType</th>\n",
       "      <th>PrimaryPropertyType</th>\n",
       "      <th>PropertyName</th>\n",
       "      <th>TaxParcelIdentificationNumber</th>\n",
       "      <th>Location</th>\n",
       "      <th>CouncilDistrictCode</th>\n",
       "      <th>Neighborhood</th>\n",
       "      <th>YearBuilt</th>\n",
       "      <th>...</th>\n",
       "      <th>GHGEmissionsIntensity(kgCO2e/ft2)</th>\n",
       "      <th>DefaultData</th>\n",
       "      <th>Comment</th>\n",
       "      <th>ComplianceStatus</th>\n",
       "      <th>Outlier</th>\n",
       "      <th>2010 Census Tracts</th>\n",
       "      <th>Seattle Police Department Micro Community Policing Plan Areas</th>\n",
       "      <th>City Council Districts</th>\n",
       "      <th>SPD Beats</th>\n",
       "      <th>Zip Codes</th>\n",
       "    </tr>\n",
       "  </thead>\n",
       "  <tbody>\n",
       "    <tr>\n",
       "      <th>0</th>\n",
       "      <td>1</td>\n",
       "      <td>2015</td>\n",
       "      <td>NonResidential</td>\n",
       "      <td>Hotel</td>\n",
       "      <td>MAYFLOWER PARK HOTEL</td>\n",
       "      <td>659000030</td>\n",
       "      <td>{'latitude': '47.61219025', 'longitude': '-122.33799744', 'human_address': '{\"address\": \"405 OLIVE WAY\", \"city\": \"SEATTLE\", \"state\": \"WA\", \"zip\": \"98101\"}'}</td>\n",
       "      <td>7</td>\n",
       "      <td>DOWNTOWN</td>\n",
       "      <td>1927</td>\n",
       "      <td>...</td>\n",
       "      <td>2.64</td>\n",
       "      <td>No</td>\n",
       "      <td>NaN</td>\n",
       "      <td>Compliant</td>\n",
       "      <td>NaN</td>\n",
       "      <td>NaN</td>\n",
       "      <td>14.0</td>\n",
       "      <td>NaN</td>\n",
       "      <td>31.0</td>\n",
       "      <td>18081</td>\n",
       "    </tr>\n",
       "    <tr>\n",
       "      <th>1</th>\n",
       "      <td>2</td>\n",
       "      <td>2015</td>\n",
       "      <td>NonResidential</td>\n",
       "      <td>Hotel</td>\n",
       "      <td>PARAMOUNT HOTEL</td>\n",
       "      <td>659000220</td>\n",
       "      <td>{'latitude': '47.61310583', 'longitude': '-122.33335756', 'human_address': '{\"address\": \"724 PINE ST\", \"city\": \"SEATTLE\", \"state\": \"WA\", \"zip\": \"98101\"}'}</td>\n",
       "      <td>7</td>\n",
       "      <td>DOWNTOWN</td>\n",
       "      <td>1996</td>\n",
       "      <td>...</td>\n",
       "      <td>2.38</td>\n",
       "      <td>No</td>\n",
       "      <td>NaN</td>\n",
       "      <td>Compliant</td>\n",
       "      <td>NaN</td>\n",
       "      <td>NaN</td>\n",
       "      <td>14.0</td>\n",
       "      <td>NaN</td>\n",
       "      <td>31.0</td>\n",
       "      <td>18081</td>\n",
       "    </tr>\n",
       "    <tr>\n",
       "      <th>2</th>\n",
       "      <td>3</td>\n",
       "      <td>2015</td>\n",
       "      <td>NonResidential</td>\n",
       "      <td>Hotel</td>\n",
       "      <td>WESTIN HOTEL</td>\n",
       "      <td>659000475</td>\n",
       "      <td>{'latitude': '47.61334897', 'longitude': '-122.33769944', 'human_address': '{\"address\": \"1900 5TH AVE\", \"city\": \"SEATTLE\", \"state\": \"WA\", \"zip\": \"98101\"}'}</td>\n",
       "      <td>7</td>\n",
       "      <td>DOWNTOWN</td>\n",
       "      <td>1969</td>\n",
       "      <td>...</td>\n",
       "      <td>1.92</td>\n",
       "      <td>Yes</td>\n",
       "      <td>NaN</td>\n",
       "      <td>Compliant</td>\n",
       "      <td>NaN</td>\n",
       "      <td>NaN</td>\n",
       "      <td>56.0</td>\n",
       "      <td>NaN</td>\n",
       "      <td>31.0</td>\n",
       "      <td>18081</td>\n",
       "    </tr>\n",
       "    <tr>\n",
       "      <th>3</th>\n",
       "      <td>5</td>\n",
       "      <td>2015</td>\n",
       "      <td>NonResidential</td>\n",
       "      <td>Hotel</td>\n",
       "      <td>HOTEL MAX</td>\n",
       "      <td>659000640</td>\n",
       "      <td>{'latitude': '47.61421585', 'longitude': '-122.33660889', 'human_address': '{\"address\": \"620 STEWART ST\", \"city\": \"SEATTLE\", \"state\": \"WA\", \"zip\": \"98101\"}'}</td>\n",
       "      <td>7</td>\n",
       "      <td>DOWNTOWN</td>\n",
       "      <td>1926</td>\n",
       "      <td>...</td>\n",
       "      <td>31.38</td>\n",
       "      <td>No</td>\n",
       "      <td>NaN</td>\n",
       "      <td>Compliant</td>\n",
       "      <td>High Outlier</td>\n",
       "      <td>NaN</td>\n",
       "      <td>56.0</td>\n",
       "      <td>NaN</td>\n",
       "      <td>31.0</td>\n",
       "      <td>18081</td>\n",
       "    </tr>\n",
       "    <tr>\n",
       "      <th>4</th>\n",
       "      <td>8</td>\n",
       "      <td>2015</td>\n",
       "      <td>NonResidential</td>\n",
       "      <td>Hotel</td>\n",
       "      <td>WARWICK SEATTLE HOTEL</td>\n",
       "      <td>659000970</td>\n",
       "      <td>{'latitude': '47.6137544', 'longitude': '-122.3409238', 'human_address': '{\"address\": \"401 LENORA ST\", \"city\": \"SEATTLE\", \"state\": \"WA\", \"zip\": \"98121\"}'}</td>\n",
       "      <td>7</td>\n",
       "      <td>DOWNTOWN</td>\n",
       "      <td>1980</td>\n",
       "      <td>...</td>\n",
       "      <td>4.02</td>\n",
       "      <td>No</td>\n",
       "      <td>NaN</td>\n",
       "      <td>Compliant</td>\n",
       "      <td>NaN</td>\n",
       "      <td>NaN</td>\n",
       "      <td>56.0</td>\n",
       "      <td>NaN</td>\n",
       "      <td>31.0</td>\n",
       "      <td>19576</td>\n",
       "    </tr>\n",
       "  </tbody>\n",
       "</table></div>"
      ],
      "text/plain": [
       "   OSEBuildingID  DataYear    BuildingType PrimaryPropertyType  \\\n",
       "0              1      2015  NonResidential               Hotel   \n",
       "1              2      2015  NonResidential               Hotel   \n",
       "2              3      2015  NonResidential               Hotel   \n",
       "3              5      2015  NonResidential               Hotel   \n",
       "4              8      2015  NonResidential               Hotel   \n",
       "\n",
       "            PropertyName TaxParcelIdentificationNumber  \\\n",
       "0   MAYFLOWER PARK HOTEL                     659000030   \n",
       "1        PARAMOUNT HOTEL                     659000220   \n",
       "2           WESTIN HOTEL                     659000475   \n",
       "3              HOTEL MAX                     659000640   \n",
       "4  WARWICK SEATTLE HOTEL                     659000970   \n",
       "\n",
       "                                            Location  CouncilDistrictCode  \\\n",
       "0  {'latitude': '47.61219025', 'longitude': '-122...                    7   \n",
       "1  {'latitude': '47.61310583', 'longitude': '-122...                    7   \n",
       "2  {'latitude': '47.61334897', 'longitude': '-122...                    7   \n",
       "3  {'latitude': '47.61421585', 'longitude': '-122...                    7   \n",
       "4  {'latitude': '47.6137544', 'longitude': '-122....                    7   \n",
       "\n",
       "  Neighborhood  YearBuilt  ...  GHGEmissionsIntensity(kgCO2e/ft2)  \\\n",
       "0     DOWNTOWN       1927  ...                               2.64   \n",
       "1     DOWNTOWN       1996  ...                               2.38   \n",
       "2     DOWNTOWN       1969  ...                               1.92   \n",
       "3     DOWNTOWN       1926  ...                              31.38   \n",
       "4     DOWNTOWN       1980  ...                               4.02   \n",
       "\n",
       "   DefaultData  Comment  ComplianceStatus       Outlier 2010 Census Tracts  \\\n",
       "0           No      NaN         Compliant           NaN                NaN   \n",
       "1           No      NaN         Compliant           NaN                NaN   \n",
       "2          Yes      NaN         Compliant           NaN                NaN   \n",
       "3           No      NaN         Compliant  High Outlier                NaN   \n",
       "4           No      NaN         Compliant           NaN                NaN   \n",
       "\n",
       "  Seattle Police Department Micro Community Policing Plan Areas  \\\n",
       "0                                               14.0              \n",
       "1                                               14.0              \n",
       "2                                               56.0              \n",
       "3                                               56.0              \n",
       "4                                               56.0              \n",
       "\n",
       "   City Council Districts SPD Beats  Zip Codes  \n",
       "0                     NaN      31.0      18081  \n",
       "1                     NaN      31.0      18081  \n",
       "2                     NaN      31.0      18081  \n",
       "3                     NaN      31.0      18081  \n",
       "4                     NaN      31.0      19576  \n",
       "\n",
       "[5 rows x 47 columns]"
      ]
     },
     "execution_count": 3,
     "metadata": {},
     "output_type": "execute_result"
    }
   ],
   "source": [
    "sea_2015.head()"
   ]
  },
  {
   "cell_type": "markdown",
   "id": "e7af7fab",
   "metadata": {},
   "source": [
    "### Deleting unneeded columns"
   ]
  },
  {
   "cell_type": "code",
   "execution_count": 4,
   "id": "15f4041f",
   "metadata": {},
   "outputs": [],
   "source": [
    "columns_to_drop = ['TaxParcelIdentificationNumber', 'PropertyGFATotal','2010 Census Tracts',\n",
    "       'Seattle Police Department Micro Community Policing Plan Areas',\n",
    "       'City Council Districts', 'SPD Beats', 'Zip Codes']\n",
    "\n",
    "sea_2015.drop(columns_to_drop, axis=1, inplace=True)"
   ]
  },
  {
   "cell_type": "markdown",
   "id": "51825e08",
   "metadata": {},
   "source": [
    "### Extarcting address data\n",
    "We need to extract latitude, longitude, address and zip from this dict-like column"
   ]
  },
  {
   "cell_type": "code",
   "execution_count": 5,
   "id": "9ed88ae1",
   "metadata": {},
   "outputs": [
    {
     "name": "stdout",
     "output_type": "stream",
     "text": [
      "{'latitude': '47.61219025', 'longitude': '-122.33799744', 'human_address': '{\"address\": \"405 OLIVE WAY\", \"city\": \"SEATTLE\", \"state\": \"WA\", \"zip\": \"98101\"}'}\n"
     ]
    }
   ],
   "source": [
    "print(sea_2015['Location'][0])"
   ]
  },
  {
   "cell_type": "code",
   "execution_count": 6,
   "id": "6ca692db",
   "metadata": {},
   "outputs": [],
   "source": [
    "# creating dictionary from a string in \"Location\" column\n",
    "sea_2015['Location'] = sea_2015['Location'].apply(ast.literal_eval)"
   ]
  },
  {
   "cell_type": "code",
   "execution_count": 7,
   "id": "4a61783d",
   "metadata": {},
   "outputs": [
    {
     "data": {
      "text/plain": [
       "{'latitude': '47.61219025',\n",
       " 'longitude': '-122.33799744',\n",
       " 'human_address': '{\"address\": \"405 OLIVE WAY\", \"city\": \"SEATTLE\", \"state\": \"WA\", \"zip\": \"98101\"}'}"
      ]
     },
     "execution_count": 7,
     "metadata": {},
     "output_type": "execute_result"
    }
   ],
   "source": [
    "sea_2015['Location'][0]"
   ]
  },
  {
   "cell_type": "code",
   "execution_count": 8,
   "id": "7d250483",
   "metadata": {},
   "outputs": [],
   "source": [
    "# creating 'latitude' and 'longitude' columns from the dictionary\n",
    "location = pd.json_normalize(sea_2015['Location'])"
   ]
  },
  {
   "cell_type": "code",
   "execution_count": 9,
   "id": "c6ba1c82",
   "metadata": {},
   "outputs": [
    {
     "data": {
      "text/html": [
       "<div><div id=c22feaa1-7e48-442b-bffe-0e58eba09c6e style=\"display:none; background-color:#9D6CFF; color:white; width:200px; height:30px; padding-left:5px; border-radius:4px; flex-direction:row; justify-content:space-around; align-items:center;\" onmouseover=\"this.style.backgroundColor='#BA9BF8'\" onmouseout=\"this.style.backgroundColor='#9D6CFF'\" onclick=\"window.commands?.execute('create-mitosheet-from-dataframe-output');\">See Full Dataframe in Mito</div> <script> if (window.commands.hasCommand('create-mitosheet-from-dataframe-output')) document.getElementById('c22feaa1-7e48-442b-bffe-0e58eba09c6e').style.display = 'flex' </script> <table border=\"1\" class=\"dataframe\">\n",
       "  <thead>\n",
       "    <tr style=\"text-align: right;\">\n",
       "      <th></th>\n",
       "      <th>latitude</th>\n",
       "      <th>longitude</th>\n",
       "      <th>human_address</th>\n",
       "    </tr>\n",
       "  </thead>\n",
       "  <tbody>\n",
       "    <tr>\n",
       "      <th>0</th>\n",
       "      <td>47.61219025</td>\n",
       "      <td>-122.33799744</td>\n",
       "      <td>{\"address\": \"405 OLIVE WAY\", \"city\": \"SEATTLE\", \"state\": \"WA\", \"zip\": \"98101\"}</td>\n",
       "    </tr>\n",
       "    <tr>\n",
       "      <th>1</th>\n",
       "      <td>47.61310583</td>\n",
       "      <td>-122.33335756</td>\n",
       "      <td>{\"address\": \"724 PINE ST\", \"city\": \"SEATTLE\", \"state\": \"WA\", \"zip\": \"98101\"}</td>\n",
       "    </tr>\n",
       "    <tr>\n",
       "      <th>2</th>\n",
       "      <td>47.61334897</td>\n",
       "      <td>-122.33769944</td>\n",
       "      <td>{\"address\": \"1900 5TH AVE\", \"city\": \"SEATTLE\", \"state\": \"WA\", \"zip\": \"98101\"}</td>\n",
       "    </tr>\n",
       "    <tr>\n",
       "      <th>3</th>\n",
       "      <td>47.61421585</td>\n",
       "      <td>-122.33660889</td>\n",
       "      <td>{\"address\": \"620 STEWART ST\", \"city\": \"SEATTLE\", \"state\": \"WA\", \"zip\": \"98101\"}</td>\n",
       "    </tr>\n",
       "    <tr>\n",
       "      <th>4</th>\n",
       "      <td>47.6137544</td>\n",
       "      <td>-122.3409238</td>\n",
       "      <td>{\"address\": \"401 LENORA ST\", \"city\": \"SEATTLE\", \"state\": \"WA\", \"zip\": \"98121\"}</td>\n",
       "    </tr>\n",
       "  </tbody>\n",
       "</table></div>"
      ],
      "text/plain": [
       "      latitude      longitude  \\\n",
       "0  47.61219025  -122.33799744   \n",
       "1  47.61310583  -122.33335756   \n",
       "2  47.61334897  -122.33769944   \n",
       "3  47.61421585  -122.33660889   \n",
       "4   47.6137544   -122.3409238   \n",
       "\n",
       "                                       human_address  \n",
       "0  {\"address\": \"405 OLIVE WAY\", \"city\": \"SEATTLE\"...  \n",
       "1  {\"address\": \"724 PINE ST\", \"city\": \"SEATTLE\", ...  \n",
       "2  {\"address\": \"1900 5TH AVE\", \"city\": \"SEATTLE\",...  \n",
       "3  {\"address\": \"620 STEWART ST\", \"city\": \"SEATTLE...  \n",
       "4  {\"address\": \"401 LENORA ST\", \"city\": \"SEATTLE\"...  "
      ]
     },
     "execution_count": 9,
     "metadata": {},
     "output_type": "execute_result"
    }
   ],
   "source": [
    "location.head()"
   ]
  },
  {
   "cell_type": "code",
   "execution_count": 10,
   "id": "738f5b8a",
   "metadata": {},
   "outputs": [],
   "source": [
    "# do the same operations for \"Human_address\" column\n",
    "location['human_address'] = location['human_address'].apply(ast.literal_eval)\n",
    "address = pd.json_normalize(location['human_address'])"
   ]
  },
  {
   "cell_type": "code",
   "execution_count": 11,
   "id": "9357d0da",
   "metadata": {},
   "outputs": [
    {
     "data": {
      "text/html": [
       "<div><div id=c9835cfc-486d-41e4-bfd2-3de4958adbb7 style=\"display:none; background-color:#9D6CFF; color:white; width:200px; height:30px; padding-left:5px; border-radius:4px; flex-direction:row; justify-content:space-around; align-items:center;\" onmouseover=\"this.style.backgroundColor='#BA9BF8'\" onmouseout=\"this.style.backgroundColor='#9D6CFF'\" onclick=\"window.commands?.execute('create-mitosheet-from-dataframe-output');\">See Full Dataframe in Mito</div> <script> if (window.commands.hasCommand('create-mitosheet-from-dataframe-output')) document.getElementById('c9835cfc-486d-41e4-bfd2-3de4958adbb7').style.display = 'flex' </script> <table border=\"1\" class=\"dataframe\">\n",
       "  <thead>\n",
       "    <tr style=\"text-align: right;\">\n",
       "      <th></th>\n",
       "      <th>address</th>\n",
       "      <th>city</th>\n",
       "      <th>state</th>\n",
       "      <th>zip</th>\n",
       "    </tr>\n",
       "  </thead>\n",
       "  <tbody>\n",
       "    <tr>\n",
       "      <th>0</th>\n",
       "      <td>405 OLIVE WAY</td>\n",
       "      <td>SEATTLE</td>\n",
       "      <td>WA</td>\n",
       "      <td>98101</td>\n",
       "    </tr>\n",
       "    <tr>\n",
       "      <th>1</th>\n",
       "      <td>724 PINE ST</td>\n",
       "      <td>SEATTLE</td>\n",
       "      <td>WA</td>\n",
       "      <td>98101</td>\n",
       "    </tr>\n",
       "    <tr>\n",
       "      <th>2</th>\n",
       "      <td>1900 5TH AVE</td>\n",
       "      <td>SEATTLE</td>\n",
       "      <td>WA</td>\n",
       "      <td>98101</td>\n",
       "    </tr>\n",
       "    <tr>\n",
       "      <th>3</th>\n",
       "      <td>620 STEWART ST</td>\n",
       "      <td>SEATTLE</td>\n",
       "      <td>WA</td>\n",
       "      <td>98101</td>\n",
       "    </tr>\n",
       "    <tr>\n",
       "      <th>4</th>\n",
       "      <td>401 LENORA ST</td>\n",
       "      <td>SEATTLE</td>\n",
       "      <td>WA</td>\n",
       "      <td>98121</td>\n",
       "    </tr>\n",
       "  </tbody>\n",
       "</table></div>"
      ],
      "text/plain": [
       "          address     city state    zip\n",
       "0   405 OLIVE WAY  SEATTLE    WA  98101\n",
       "1     724 PINE ST  SEATTLE    WA  98101\n",
       "2    1900 5TH AVE  SEATTLE    WA  98101\n",
       "3  620 STEWART ST  SEATTLE    WA  98101\n",
       "4   401 LENORA ST  SEATTLE    WA  98121"
      ]
     },
     "execution_count": 11,
     "metadata": {},
     "output_type": "execute_result"
    }
   ],
   "source": [
    "address.head()"
   ]
  },
  {
   "cell_type": "code",
   "execution_count": 12,
   "id": "3afff303",
   "metadata": {},
   "outputs": [],
   "source": [
    "# droping \"Location\" column and inserting new columns in a fixed order\n",
    "sea_2015.drop(\"Location\", axis=1, inplace=True)\n",
    "sea_2015.insert(loc=5, column='Address', value=address['address'])\n",
    "sea_2015.insert(loc=6, column='ZipCode', value=address['zip'])\n",
    "sea_2015.insert(loc=9, column='Latitude', value=location['latitude'])\n",
    "sea_2015.insert(loc=10, column='Longitude', value=location['longitude'])"
   ]
  },
  {
   "cell_type": "code",
   "execution_count": 13,
   "id": "d699ef62",
   "metadata": {},
   "outputs": [],
   "source": [
    "sea_2015['Latitude'] = sea_2015['Latitude'].astype(float)\n",
    "sea_2015['Longitude'] = sea_2015['Longitude'].astype(float)\n",
    "sea_2015['ZipCode'] = sea_2015['ZipCode'].astype(float)"
   ]
  },
  {
   "cell_type": "markdown",
   "id": "6b31ae61",
   "metadata": {},
   "source": [
    "### Conversion kBtu units into kWh"
   ]
  },
  {
   "cell_type": "code",
   "execution_count": 14,
   "id": "b0ff9544",
   "metadata": {
    "scrolled": true
   },
   "outputs": [
    {
     "name": "stdout",
     "output_type": "stream",
     "text": [
      "0 OSEBuildingID\n",
      "1 DataYear\n",
      "2 BuildingType\n",
      "3 PrimaryPropertyType\n",
      "4 PropertyName\n",
      "5 Address\n",
      "6 ZipCode\n",
      "7 CouncilDistrictCode\n",
      "8 Neighborhood\n",
      "9 Latitude\n",
      "10 Longitude\n",
      "11 YearBuilt\n",
      "12 NumberofBuildings\n",
      "13 NumberofFloors\n",
      "14 PropertyGFAParking\n",
      "15 PropertyGFABuilding(s)\n",
      "16 ListOfAllPropertyUseTypes\n",
      "17 LargestPropertyUseType\n",
      "18 LargestPropertyUseTypeGFA\n",
      "19 SecondLargestPropertyUseType\n",
      "20 SecondLargestPropertyUseTypeGFA\n",
      "21 ThirdLargestPropertyUseType\n",
      "22 ThirdLargestPropertyUseTypeGFA\n",
      "23 YearsENERGYSTARCertified\n",
      "24 ENERGYSTARScore\n",
      "25 SiteEUI(kBtu/sf)\n",
      "26 SiteEUIWN(kBtu/sf)\n",
      "27 SourceEUI(kBtu/sf)\n",
      "28 SourceEUIWN(kBtu/sf)\n",
      "29 SiteEnergyUse(kBtu)\n",
      "30 SiteEnergyUseWN(kBtu)\n",
      "31 SteamUse(kBtu)\n",
      "32 Electricity(kWh)\n",
      "33 Electricity(kBtu)\n",
      "34 NaturalGas(therms)\n",
      "35 NaturalGas(kBtu)\n",
      "36 OtherFuelUse(kBtu)\n",
      "37 GHGEmissions(MetricTonsCO2e)\n",
      "38 GHGEmissionsIntensity(kgCO2e/ft2)\n",
      "39 DefaultData\n",
      "40 Comment\n",
      "41 ComplianceStatus\n",
      "42 Outlier\n"
     ]
    }
   ],
   "source": [
    "# 1kWh = 3.4121416 kBtu\n",
    "conventer = 3.4121416\n",
    "\n",
    "# columns loc number\n",
    "for i in range(len(sea_2015.columns)):\n",
    "    print(i, sea_2015.columns[i])"
   ]
  },
  {
   "cell_type": "code",
   "execution_count": 15,
   "id": "82b92e9e",
   "metadata": {},
   "outputs": [],
   "source": [
    "sea_2015.insert(loc=30, column='SiteEnergyUse(kWh)', value=sea_2015['SiteEnergyUse(kBtu)'] * conventer)\n",
    "sea_2015.insert(loc=32, column='SiteEnergyUseWN(kWh)', value=sea_2015['SiteEnergyUseWN(kBtu)'] * conventer)\n",
    "sea_2015.insert(loc=34, column='SteamUse(kWh)', value=sea_2015['SteamUse(kBtu)'] * conventer)\n",
    "sea_2015.insert(loc=39, column='NaturalGas(kWh)', value=sea_2015['NaturalGas(kBtu)'] * conventer)"
   ]
  },
  {
   "cell_type": "markdown",
   "id": "74670fc8",
   "metadata": {},
   "source": [
    "### Droping Nan and zeros, renaming columns"
   ]
  },
  {
   "cell_type": "code",
   "execution_count": 16,
   "id": "631da537",
   "metadata": {},
   "outputs": [],
   "source": [
    "sea_2015.dropna(subset=['SiteEnergyUse(kBtu)', 'SiteEnergyUse(kWh)', 'SiteEnergyUseWN(kBtu)',\n",
    "                        'SiteEnergyUseWN(kWh)', 'SteamUse(kBtu)', 'SteamUse(kWh)',\n",
    "                        'Electricity(kWh)', 'Electricity(kBtu)', 'NaturalGas(therms)'],\n",
    "                inplace=True)\n",
    "\n",
    "sea_2015 = sea_2015[sea_2015['SiteEnergyUse(kBtu)'] != 0]\n",
    "\n",
    "sea_2015.rename(columns={'GHGEmissions(MetricTonsCO2e)': 'TotalGHGEmissions',\n",
    "                         'GHGEmissionsIntensity(kgCO2e/ft2)': 'GHGEmissionsIntensity'},\n",
    "                inplace=True)\n",
    "\n",
    "# columns with kWh to integer\n",
    "sea_2015['SiteEnergyUse(kWh)'] = sea_2015['SiteEnergyUse(kWh)'].astype(int)\n",
    "sea_2015['SiteEnergyUseWN(kBtu)'] = sea_2015['SiteEnergyUseWN(kBtu)'].astype(int)\n",
    "sea_2015['SteamUse(kBtu)'] = sea_2015['SteamUse(kBtu)'].astype(int)\n",
    "sea_2015['NaturalGas(kBtu)'] = sea_2015['NaturalGas(kBtu)'].astype(int)"
   ]
  },
  {
   "cell_type": "code",
   "execution_count": 17,
   "id": "c8e78981",
   "metadata": {},
   "outputs": [],
   "source": [
    "sea_2015.to_excel('data/2015-building-energy-benchmarking-processed.xlsx', index=False)"
   ]
  }
 ],
 "metadata": {
  "kernelspec": {
   "display_name": "Python 3 (ipykernel)",
   "language": "python",
   "name": "python3"
  },
  "language_info": {
   "codemirror_mode": {
    "name": "ipython",
    "version": 3
   },
   "file_extension": ".py",
   "mimetype": "text/x-python",
   "name": "python",
   "nbconvert_exporter": "python",
   "pygments_lexer": "ipython3",
   "version": "3.10.1"
  }
 },
 "nbformat": 4,
 "nbformat_minor": 5
}
