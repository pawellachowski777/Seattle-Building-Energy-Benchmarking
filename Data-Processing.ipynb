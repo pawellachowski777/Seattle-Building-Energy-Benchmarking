{
 "cells": [
  {
   "cell_type": "markdown",
   "id": "b7a7bf05",
   "metadata": {},
   "source": [
    "# 1. Readnig csv files"
   ]
  },
  {
   "cell_type": "markdown",
   "id": "8091f8f0",
   "metadata": {},
   "source": [
    "Our data come from the Seattle Open Data website (https://data.seattle.gov/). Unfortunately, they have no united structure. That's why we have to pre-process each year separately. Also, our source page is missing 2018 data, so we have a gap there.  \n",
    "Problems we found out:\n",
    "- different data types in one column (e.g flota, int)\n",
    "- missing key data\n",
    "- some unnecessary columns (e.g comments)\n",
    "- incomprehensible way of calculating surface (there are columns that contain 1st, 2nd, 3rd property surface, but often their sum is not equal to the overall surface)\n",
    "- different columns names\n",
    "- mixed up columns order\n",
    "\n",
    "Functions below are made to process each year separately and exclude all discrepancies  "
   ]
  },
  {
   "cell_type": "code",
   "execution_count": 22,
   "id": "8dd87f06",
   "metadata": {},
   "outputs": [],
   "source": [
    "import pandas as pd\n",
    "import ast\n",
    "\n",
    "def convert_columns(df, columns, new_type):\n",
    "    for column in columns:\n",
    "        df[column] = df[column].astype(new_type)\n",
    "        \n",
    "\n",
    "def drop_columns(df, columns_to_drop):\n",
    "    df.drop(columns_to_drop, axis=1, inplace=True)\n",
    "    \n",
    "    # delete Nan and zeros \n",
    "    to_zero = df.loc[:, 'SiteEUI(kBtu/sf)':'NaturalGas(kBtu)'].columns.tolist()\n",
    "    df[to_zero] = df[to_zero].fillna(0)\n",
    "    df = df[df['SiteEnergyUse(kBtu)'] != 0]\n",
    "    return df\n",
    "\n",
    "def convert(df, convert_to_float, convert_to_int):\n",
    "    convert_columns(df=df, columns=convert_to_float, new_type=float)\n",
    "    convert_columns(df=df, columns=convert_to_int, new_type=int)\n",
    "    return df\n",
    "\n",
    "def rename(df, columns_to_rename):\n",
    "    df.rename(columns=columns_to_rename, inplace=True)\n",
    "    return df\n",
    "\n",
    "def sort_columns(df, columns_order):\n",
    "    df = df[columns_order]\n",
    "    return df\n",
    "\n",
    "fixed_columns_order =[\n",
    "    'OSEBuildingID',\n",
    "    'DataYear',\n",
    "    'BuildingType',\n",
    "    'PrimaryPropertyType',\n",
    "    'PropertyName',\n",
    "    'Address',\n",
    "    'ZipCode',\n",
    "    'CouncilDistrictCode',\n",
    "    'Neighborhood',\n",
    "    'Latitude',\n",
    "    'Longitude',\n",
    "    'YearBuilt',\n",
    "    'NumberofFloors',\n",
    "    'NumberofBuildings',\n",
    "    'PropertyGFATotal',\n",
    "    'PropertyGFAParking',\n",
    "    'YearsENERGYSTARCertified',\n",
    "    'ENERGYSTARScore',\n",
    "    'SiteEUI(kBtu/sf)',\n",
    "    'SiteEUIWN(kBtu/sf)',\n",
    "    'SourceEUI(kBtu/sf)',\n",
    "    'SourceEUIWN(kBtu/sf)',\n",
    "    'SiteEnergyUse(kBtu)',\n",
    "    'SiteEnergyUseWN(kBtu)',\n",
    "    'SteamUse(kBtu)',\n",
    "    'Electricity(kBtu)',\n",
    "    'Electricity(kWh)',\n",
    "    'NaturalGas(therms)',\n",
    "    'NaturalGas(kBtu)',\n",
    "    'GHGEmissions(MetricTonsCO2e)',\n",
    "    'GHGEmissionsIntensity(kgCO2e/ft2)'\n",
    "]"
   ]
  },
  {
   "cell_type": "markdown",
   "id": "4417c9e4",
   "metadata": {},
   "source": [
    "## 2015"
   ]
  },
  {
   "cell_type": "markdown",
   "id": "51825e08",
   "metadata": {},
   "source": [
    "### Extarcting address data\n",
    "We need to extract latitude, longitude, address and zip from this dict-like column"
   ]
  },
  {
   "cell_type": "code",
   "execution_count": 9,
   "id": "9ed88ae1",
   "metadata": {},
   "outputs": [
    {
     "name": "stdout",
     "output_type": "stream",
     "text": [
      "{'latitude': '47.61219025', 'longitude': '-122.33799744', 'human_address': '{\"address\": \"405 OLIVE WAY\", \"city\": \"SEATTLE\", \"state\": \"WA\", \"zip\": \"98101\"}'}\n"
     ]
    }
   ],
   "source": [
    "path_15 = 'data/raw/2015_Building_Energy_Benchmarking.csv'\n",
    "sea_2015 = pd.read_csv(path_15)\n",
    "\n",
    "print(sea_2015['Location'][0])"
   ]
  },
  {
   "cell_type": "code",
   "execution_count": 10,
   "id": "6ca692db",
   "metadata": {},
   "outputs": [
    {
     "data": {
      "text/plain": [
       "{'latitude': '47.61219025',\n",
       " 'longitude': '-122.33799744',\n",
       " 'human_address': '{\"address\": \"405 OLIVE WAY\", \"city\": \"SEATTLE\", \"state\": \"WA\", \"zip\": \"98101\"}'}"
      ]
     },
     "execution_count": 10,
     "metadata": {},
     "output_type": "execute_result"
    }
   ],
   "source": [
    "# creating dictionary from a string in \"Location\" column\n",
    "sea_2015['Location'] = sea_2015['Location'].apply(ast.literal_eval)\n",
    "sea_2015['Location'][0]"
   ]
  },
  {
   "cell_type": "code",
   "execution_count": 11,
   "id": "7d250483",
   "metadata": {},
   "outputs": [
    {
     "data": {
      "text/html": [
       "<div><div id=a97cf251-221d-461f-9dcb-230011cb7dc5 style=\"display:none; background-color:#9D6CFF; color:white; width:200px; height:30px; padding-left:5px; border-radius:4px; flex-direction:row; justify-content:space-around; align-items:center;\" onmouseover=\"this.style.backgroundColor='#BA9BF8'\" onmouseout=\"this.style.backgroundColor='#9D6CFF'\" onclick=\"window.commands?.execute('create-mitosheet-from-dataframe-output');\">See Full Dataframe in Mito</div> <script> if (window.commands.hasCommand('create-mitosheet-from-dataframe-output')) document.getElementById('a97cf251-221d-461f-9dcb-230011cb7dc5').style.display = 'flex' </script> <table border=\"1\" class=\"dataframe\">\n",
       "  <thead>\n",
       "    <tr style=\"text-align: right;\">\n",
       "      <th></th>\n",
       "      <th>latitude</th>\n",
       "      <th>longitude</th>\n",
       "      <th>human_address</th>\n",
       "    </tr>\n",
       "  </thead>\n",
       "  <tbody>\n",
       "    <tr>\n",
       "      <th>0</th>\n",
       "      <td>47.61219025</td>\n",
       "      <td>-122.33799744</td>\n",
       "      <td>{\"address\": \"405 OLIVE WAY\", \"city\": \"SEATTLE\", \"state\": \"WA\", \"zip\": \"98101\"}</td>\n",
       "    </tr>\n",
       "    <tr>\n",
       "      <th>1</th>\n",
       "      <td>47.61310583</td>\n",
       "      <td>-122.33335756</td>\n",
       "      <td>{\"address\": \"724 PINE ST\", \"city\": \"SEATTLE\", \"state\": \"WA\", \"zip\": \"98101\"}</td>\n",
       "    </tr>\n",
       "    <tr>\n",
       "      <th>2</th>\n",
       "      <td>47.61334897</td>\n",
       "      <td>-122.33769944</td>\n",
       "      <td>{\"address\": \"1900 5TH AVE\", \"city\": \"SEATTLE\", \"state\": \"WA\", \"zip\": \"98101\"}</td>\n",
       "    </tr>\n",
       "    <tr>\n",
       "      <th>3</th>\n",
       "      <td>47.61421585</td>\n",
       "      <td>-122.33660889</td>\n",
       "      <td>{\"address\": \"620 STEWART ST\", \"city\": \"SEATTLE\", \"state\": \"WA\", \"zip\": \"98101\"}</td>\n",
       "    </tr>\n",
       "    <tr>\n",
       "      <th>4</th>\n",
       "      <td>47.6137544</td>\n",
       "      <td>-122.3409238</td>\n",
       "      <td>{\"address\": \"401 LENORA ST\", \"city\": \"SEATTLE\", \"state\": \"WA\", \"zip\": \"98121\"}</td>\n",
       "    </tr>\n",
       "  </tbody>\n",
       "</table></div>"
      ],
      "text/plain": [
       "      latitude      longitude  \\\n",
       "0  47.61219025  -122.33799744   \n",
       "1  47.61310583  -122.33335756   \n",
       "2  47.61334897  -122.33769944   \n",
       "3  47.61421585  -122.33660889   \n",
       "4   47.6137544   -122.3409238   \n",
       "\n",
       "                                       human_address  \n",
       "0  {\"address\": \"405 OLIVE WAY\", \"city\": \"SEATTLE\"...  \n",
       "1  {\"address\": \"724 PINE ST\", \"city\": \"SEATTLE\", ...  \n",
       "2  {\"address\": \"1900 5TH AVE\", \"city\": \"SEATTLE\",...  \n",
       "3  {\"address\": \"620 STEWART ST\", \"city\": \"SEATTLE...  \n",
       "4  {\"address\": \"401 LENORA ST\", \"city\": \"SEATTLE\"...  "
      ]
     },
     "execution_count": 11,
     "metadata": {},
     "output_type": "execute_result"
    }
   ],
   "source": [
    "# creating 'latitude' and 'longitude' columns from the dictionary\n",
    "location = pd.json_normalize(sea_2015['Location'])\n",
    "location.head()"
   ]
  },
  {
   "cell_type": "code",
   "execution_count": 12,
   "id": "738f5b8a",
   "metadata": {},
   "outputs": [
    {
     "data": {
      "text/html": [
       "<div><div id=c69bed67-b00b-4690-93cc-915a909b7129 style=\"display:none; background-color:#9D6CFF; color:white; width:200px; height:30px; padding-left:5px; border-radius:4px; flex-direction:row; justify-content:space-around; align-items:center;\" onmouseover=\"this.style.backgroundColor='#BA9BF8'\" onmouseout=\"this.style.backgroundColor='#9D6CFF'\" onclick=\"window.commands?.execute('create-mitosheet-from-dataframe-output');\">See Full Dataframe in Mito</div> <script> if (window.commands.hasCommand('create-mitosheet-from-dataframe-output')) document.getElementById('c69bed67-b00b-4690-93cc-915a909b7129').style.display = 'flex' </script> <table border=\"1\" class=\"dataframe\">\n",
       "  <thead>\n",
       "    <tr style=\"text-align: right;\">\n",
       "      <th></th>\n",
       "      <th>address</th>\n",
       "      <th>city</th>\n",
       "      <th>state</th>\n",
       "      <th>zip</th>\n",
       "    </tr>\n",
       "  </thead>\n",
       "  <tbody>\n",
       "    <tr>\n",
       "      <th>0</th>\n",
       "      <td>405 OLIVE WAY</td>\n",
       "      <td>SEATTLE</td>\n",
       "      <td>WA</td>\n",
       "      <td>98101</td>\n",
       "    </tr>\n",
       "    <tr>\n",
       "      <th>1</th>\n",
       "      <td>724 PINE ST</td>\n",
       "      <td>SEATTLE</td>\n",
       "      <td>WA</td>\n",
       "      <td>98101</td>\n",
       "    </tr>\n",
       "    <tr>\n",
       "      <th>2</th>\n",
       "      <td>1900 5TH AVE</td>\n",
       "      <td>SEATTLE</td>\n",
       "      <td>WA</td>\n",
       "      <td>98101</td>\n",
       "    </tr>\n",
       "    <tr>\n",
       "      <th>3</th>\n",
       "      <td>620 STEWART ST</td>\n",
       "      <td>SEATTLE</td>\n",
       "      <td>WA</td>\n",
       "      <td>98101</td>\n",
       "    </tr>\n",
       "    <tr>\n",
       "      <th>4</th>\n",
       "      <td>401 LENORA ST</td>\n",
       "      <td>SEATTLE</td>\n",
       "      <td>WA</td>\n",
       "      <td>98121</td>\n",
       "    </tr>\n",
       "  </tbody>\n",
       "</table></div>"
      ],
      "text/plain": [
       "          address     city state    zip\n",
       "0   405 OLIVE WAY  SEATTLE    WA  98101\n",
       "1     724 PINE ST  SEATTLE    WA  98101\n",
       "2    1900 5TH AVE  SEATTLE    WA  98101\n",
       "3  620 STEWART ST  SEATTLE    WA  98101\n",
       "4   401 LENORA ST  SEATTLE    WA  98121"
      ]
     },
     "execution_count": 12,
     "metadata": {},
     "output_type": "execute_result"
    }
   ],
   "source": [
    "# do the same operations for \"Human_address\" column\n",
    "location['human_address'] = location['human_address'].apply(ast.literal_eval)\n",
    "address = pd.json_normalize(location['human_address'])\n",
    "address.head()"
   ]
  },
  {
   "cell_type": "code",
   "execution_count": 14,
   "id": "44406b3e",
   "metadata": {},
   "outputs": [],
   "source": [
    "# inserting new columns in a fixed order\n",
    "sea_2015.insert(loc=5, column='Address', value=address['address'])\n",
    "sea_2015.insert(loc=6, column='ZipCode', value=address['zip'])\n",
    "sea_2015.insert(loc=9, column='Latitude', value=location['latitude'])\n",
    "sea_2015.insert(loc=10, column='Longitude', value=location['longitude'])\n",
    "\n",
    "columns_to_drop_15 =  [\n",
    "    'TaxParcelIdentificationNumber',\n",
    "    'Location',\n",
    "    'PropertyGFABuilding(s)',\n",
    "    'ListOfAllPropertyUseTypes',\n",
    "    'LargestPropertyUseType', \n",
    "    'LargestPropertyUseTypeGFA', \n",
    "    'SecondLargestPropertyUseType',\n",
    "    'SecondLargestPropertyUseTypeGFA', \n",
    "    'ThirdLargestPropertyUseType',\n",
    "    'ThirdLargestPropertyUseTypeGFA', \n",
    "    'OtherFuelUse(kBtu)',\n",
    "    'DefaultData',\n",
    "    'Comment',\n",
    "    'ComplianceStatus',\n",
    "    'Outlier',\n",
    "    '2010 Census Tracts',\n",
    "    'Seattle Police Department Micro Community Policing Plan Areas',\n",
    "    'City Council Districts',\n",
    "    'SPD Beats',\n",
    "    'Zip Codes'    \n",
    "]\n",
    "\n",
    "convert_to_float_15 = [\n",
    "    'Latitude', \n",
    "    'Longitude',\n",
    "    'ZipCode'\n",
    "]\n",
    "\n",
    "convert_to_int_15 = [\n",
    "    'SiteEnergyUse(kBtu)',\n",
    "    'SiteEnergyUseWN(kBtu)',\n",
    "    'SteamUse(kBtu)',\n",
    "    'Electricity(kBtu)',\n",
    "    'Electricity(kWh)',\n",
    "    'NaturalGas(kBtu)',\n",
    "    'NaturalGas(therms)'\n",
    "]\n",
    "\n",
    "sea_2015 = drop_columns(sea_2015, columns_to_drop_15)\n",
    "sea_2015 = convert(sea_2015, convert_to_float_15, convert_to_int_15)\n",
    "sea_2015 = sort_columns(sea_2015, columns_order)\n",
    "\n",
    "sea_2015.to_csv('data/clean/2015-building-energy-benchmarking-clean.csv', index=False)"
   ]
  },
  {
   "cell_type": "markdown",
   "id": "aa547a35",
   "metadata": {},
   "source": [
    "## 2016"
   ]
  },
  {
   "cell_type": "code",
   "execution_count": null,
   "id": "7a6d5408",
   "metadata": {},
   "outputs": [],
   "source": [
    "path_16 = 'data/raw/2016_Building_Energy_Benchmarking.csv'\n",
    "\n",
    "columns_to_drop_16 = [\n",
    "    'City', \n",
    "    'State', \n",
    "    'TaxParcelIdentificationNumber',\n",
    "    'PropertyGFABuilding(s)', \n",
    "    'ListOfAllPropertyUseTypes',\n",
    "    'LargestPropertyUseType', \n",
    "    'LargestPropertyUseTypeGFA', \n",
    "    'SecondLargestPropertyUseType',\n",
    "    'SecondLargestPropertyUseTypeGFA', \n",
    "    'ThirdLargestPropertyUseType',\n",
    "    'ThirdLargestPropertyUseTypeGFA', \n",
    "    'DefaultData',\n",
    "    'Comments',\n",
    "    'Outlier',\n",
    "    'ComplianceStatus'\n",
    "]\n",
    "\n",
    "convert_to_float_16 = [\n",
    "    'Latitude', \n",
    "    'Longitude',\n",
    "    'ZipCode'\n",
    "]\n",
    "\n",
    "convert_to_int_16 = [\n",
    "    'SiteEnergyUse(kBtu)',\n",
    "    'SiteEnergyUseWN(kBtu)',\n",
    "    'Electricity(kBtu)',\n",
    "    'NaturalGas(kBtu)'\n",
    "]\n",
    "\n",
    "columns_to_rename_16 = {\n",
    "    'TotalGHGEmissions': 'GHGEmissions(MetricTonsCO2e)',\n",
    "    'GHGEmissionsIntensity': 'GHGEmissionsIntensity(kgCO2e/ft2)'\n",
    "}\n",
    "\n",
    "sea_2016 = pd.read_csv(path_16)\n",
    "sea_2016 = drop_columns(sea_2016, columns_to_drop_16)\n",
    "sea_2016 = convert(sea_2016, convert_to_float_16, convert_to_int_16)\n",
    "sea_2016 = rename(sea_2016, columns_to_rename_16)\n",
    "sea_2016 = sort_columns(sea_2016, columns_order)\n",
    "\n",
    "sea_2016.to_csv('data/clean/2016-building-energy-benchmarking-clean.csv', index=False)"
   ]
  },
  {
   "cell_type": "markdown",
   "id": "af8514c7",
   "metadata": {},
   "source": [
    "## 2017"
   ]
  },
  {
   "cell_type": "code",
   "execution_count": null,
   "id": "c9ebd630",
   "metadata": {},
   "outputs": [],
   "source": [
    "sea_2017 = pd.read_csv('2017_Building_Energy_Benchmarking.csv')\n",
    "\n",
    "path_17 = 'data/raw/2017_Building_Energy_Benchmarking.csv'\n",
    "\n",
    "columns_to_drop_17 = [\n",
    "    City', \n",
    "    'State', \n",
    "    'TaxParcelIdentificationNumber',\n",
    "    'PropertyGFABuilding(s)', \n",
    "    'ListOfAllPropertyUseTypes',\n",
    "    'LargestPropertyUseType', \n",
    "    'LargestPropertyUseTypeGFA', \n",
    "    'SecondLargestPropertyUseType',\n",
    "    'SecondLargestPropertyUseTypeGFA', \n",
    "    'ThirdLargestPropertyUseType',\n",
    "    'ThirdLargestPropertyUseTypeGFA', \n",
    "    'DefaultData',\n",
    "    'Outlier',\n",
    "    'ComplianceStatus'\n",
    "]\n",
    "\n",
    "convert_to_float_17 = [\n",
    "    'Latitude', \n",
    "    'Longitude',\n",
    "    'ZipCode'\n",
    "]\n",
    "\n",
    "convert_to_int_17 = [\n",
    "    'SiteEnergyUse(kBtu)',\n",
    "    'SiteEnergyUseWN(kBtu)',\n",
    "    'Electricity(kBtu)',\n",
    "    'NaturalGas(kBtu)'\n",
    "]\n",
    "\n",
    "columns_to_rename_17 = {\n",
    "    'TotalGHGEmissions': 'GHGEmissions(MetricTonsCO2e)',\n",
    "    'GHGEmissionsIntensity': 'GHGEmissionsIntensity(kgCO2e/ft2)'\n",
    "}\n",
    "\n",
    "sea_2017 = pd.read_csv(path_17)\n",
    "sea_2017 = drop_columns(sea_2017, columns_to_drop_17)\n",
    "sea_2017 = convert(sea_2017, convert_to_float_16, convert_to_int_17)\n",
    "sea_2017 = rename(sea_2017, columns_to_rename_17)\n",
    "sea_2017 = sort_columns(sea_2017, columns_order)\n",
    "\n",
    "sea_2017.to_csv('data/clean/2017-building-energy-benchmarking-clean.csv', index=False)"
   ]
  },
  {
   "cell_type": "markdown",
   "id": "44f5cc9a",
   "metadata": {},
   "source": [
    "# 2019"
   ]
  },
  {
   "cell_type": "code",
   "execution_count": 5,
   "id": "17ae6846",
   "metadata": {},
   "outputs": [],
   "source": [
    "path_19 = 'data/raw/2019_Building_Energy_Benchmarking.csv'\n",
    "\n",
    "columns_to_drop_19 = [\n",
    "    'TaxParcelIdentificationNumber',\n",
    "    'City', \n",
    "    'State', \n",
    "    'PropertyGFABuilding(s)', \n",
    "    'LargestPropertyUseType', \n",
    "    'LargestPropertyUseTypeGFA', \n",
    "    'SecondLargestPropertyUseType',\n",
    "    'SecondLargestPropertyUseTypeGFA', \n",
    "    'ThirdLargestPropertyUseType',\n",
    "    'ThirdLargestPropertyUseTypeGFA', \n",
    "    'EPAPropertyType',\n",
    "    'ComplianceIssue',\n",
    "    'ComplianceStatus'\n",
    "]\n",
    "\n",
    "convert_to_float_19 = [\n",
    "    'Latitude', \n",
    "    'Longitude',\n",
    "    'ZipCode'\n",
    "]\n",
    "\n",
    "convert_to_int_19 = [\n",
    "    'SiteEnergyUse(kBtu)',\n",
    "    'SiteEnergyUseWN(kBtu)',\n",
    "    'Electricity(kBtu)',\n",
    "    'NaturalGas(kBtu)'\n",
    "]\n",
    "\n",
    "columns_to_rename_19 = {\n",
    "    'BuildingName': 'PropertyName',\n",
    "    'TotalGHGEmissions': 'GHGEmissions(MetricTonsCO2e)',\n",
    "    'GHGEmissionsIntensity': 'GHGEmissionsIntensity(kgCO2e/ft2)'\n",
    "}\n",
    "\n",
    "columns_to_add_19 = [\n",
    "    'NumberofBuildings',\n",
    "    'YearsENERGYSTARCertified',\n",
    "]\n",
    "\n",
    "sea_2019 = pd.read_csv(path_19)\n",
    "sea_2019 = drop_columns(sea_2019, columns_to_drop_19)\n",
    "sea_2019 = convert(sea_2019, convert_to_float_19, convert_to_int_19)\n",
    "sea_2019 = rename(sea_2019, columns_to_rename_19)\n",
    "sea_2019[[columns_to_add_19]] = None # adding missing columns with no data inside\n",
    "sea_2019 = sort_columns(sea_2019, columns_order)\n",
    "\n",
    "sea_2019.to_csv('data/clean/2019-building-energy-benchmarking-clean.csv', index=False)"
   ]
  },
  {
   "cell_type": "markdown",
   "id": "89c13bc8",
   "metadata": {},
   "source": [
    "# 2020"
   ]
  },
  {
   "cell_type": "code",
   "execution_count": 3,
   "id": "0f894adf",
   "metadata": {},
   "outputs": [],
   "source": [
    "# fixed order of columns for all data is saved in columns_order.py\n",
    "\n",
    "path_20 = 'data/raw/2020_Building_Energy_Benchmarking.csv'\n",
    "\n",
    "columns_to_drop_20 = [\n",
    "    'TaxParcelIdentificationNumber',\n",
    "    'City', \n",
    "    'State', \n",
    "    'PropertyGFABuilding(s)', \n",
    "    'LargestPropertyUseType', \n",
    "    'LargestPropertyUseTypeGFA', \n",
    "    'SecondLargestPropertyUseType',\n",
    "    'SecondLargestPropertyUseTypeGFA', \n",
    "    'ThirdLargestPropertyUseType',\n",
    "    'ThirdLargestPropertyUseTypeGFA', \n",
    "    'EPAPropertyType',\n",
    "    'ComplianceIssue',\n",
    "    'ComplianceStatus'\n",
    "]\n",
    "\n",
    "convert_to_float_20 = [\n",
    "    'Latitude', \n",
    "    'Longitude',\n",
    "    'ZipCode'\n",
    "]\n",
    "\n",
    "convert_to_int_20 = [\n",
    "    'SiteEnergyUse(kBtu)',\n",
    "    'SiteEnergyUseWN(kBtu)',\n",
    "    'Electricity(kBtu)',\n",
    "    'NaturalGas(kBtu)'\n",
    "]\n",
    "\n",
    "columns_to_rename_20 = {\n",
    "    'BuildingName': 'PropertyName',\n",
    "    'TotalGHGEmissions': 'GHGEmissions(MetricTonsCO2e)',\n",
    "    'GHGEmissionsIntensity': 'GHGEmissionsIntensity(kgCO2e/ft2)'\n",
    "}\n",
    "\n",
    "columns_to_add_20 = [\n",
    "    'YearsENERGYSTARCertified',\n",
    "    'PrimaryPropertyType'\n",
    "]\n",
    "\n",
    "sea_2020 = pd.read_csv(path_20)\n",
    "sea_2020 = drop_columns(sea_2020, columns_to_drop_20)\n",
    "sea_2020 = convert(sea_2020, convert_to_float_20, convert_to_int_20)\n",
    "sea_2020 = rename(sea_2020, columns_to_rename_20)\n",
    "sea_2020[[columns_to_add_20]] = None # adding missing columns with no data inside\n",
    "sea_2020 = sort_columns(sea_2020, columns_order)\n",
    "\n",
    "sea_2020.to_csv('data/clean/2020-building-energy-benchmarking-clean.csv', index=False)"
   ]
  },
  {
   "cell_type": "markdown",
   "id": "8c110fcf",
   "metadata": {},
   "source": [
    "# 2. Concatenating data"
   ]
  },
  {
   "cell_type": "code",
   "execution_count": 1,
   "id": "f678edc4",
   "metadata": {},
   "outputs": [
    {
     "data": {
      "text/plain": [
       "['data\\\\clean\\\\2015-building-energy-benchmarking-clean.csv',\n",
       " 'data\\\\clean\\\\2016-building-energy-benchmarking-clean.csv',\n",
       " 'data\\\\clean\\\\2017-building-energy-benchmarking-clean.csv',\n",
       " 'data\\\\clean\\\\2019-building-energy-benchmarking-clean.csv',\n",
       " 'data\\\\clean\\\\2020-building-energy-benchmarking-clean.csv']"
      ]
     },
     "execution_count": 1,
     "metadata": {},
     "output_type": "execute_result"
    }
   ],
   "source": [
    "import pandas as pd\n",
    "from os import listdir\n",
    "from os.path import isfile, join\n",
    "\n",
    "data_path = 'data\\clean'\n",
    "# taking full path of all files \n",
    "files_full_path = [join(data_path, f) for f in listdir(data_path) if isfile(join(data_path, f))]\n",
    "files_full_path"
   ]
  },
  {
   "cell_type": "code",
   "execution_count": 2,
   "id": "9b2e8090",
   "metadata": {
    "scrolled": true
   },
   "outputs": [],
   "source": [
    "data_list = []\n",
    "\n",
    "for file in files_full_path:\n",
    "    df = pd.read_csv(file)\n",
    "    data_list.append(df)\n",
    "\n",
    "sea_all = pd.concat(data_list, axis=0, ignore_index=True)"
   ]
  },
  {
   "cell_type": "code",
   "execution_count": null,
   "id": "64f3fb49",
   "metadata": {},
   "outputs": [],
   "source": [
    "sea_all.to_csv(r'data\\ALL_YEARS_building-energy-benchmarking-clean.csv', index=False)"
   ]
  },
  {
   "cell_type": "markdown",
   "id": "bc27acc9",
   "metadata": {},
   "source": [
    "To jest jeszcze na brudno"
   ]
  },
  {
   "cell_type": "code",
   "execution_count": 10,
   "id": "c47a02a2",
   "metadata": {},
   "outputs": [],
   "source": [
    "sea_17 = pd.read_csv('data/clean/2017-building-energy-benchmarking-clean.csv')\n",
    "# value = sea_17['YearsENERGYSTARCertified'][sea_17['OSEBuildingID'] == 57]\n",
    "# value\n",
    "sea_17.YearsENERGYSTARCertified = sea_17.YearsENERGYSTARCertified.apply(lambda x: '{:.0f}'.format(x))\n",
    "# sea_17['YearsENERGYSTARCertified'].unique()"
   ]
  }
 ],
 "metadata": {
  "kernelspec": {
   "display_name": "Python 3 (ipykernel)",
   "language": "python",
   "name": "python3"
  },
  "language_info": {
   "codemirror_mode": {
    "name": "ipython",
    "version": 3
   },
   "file_extension": ".py",
   "mimetype": "text/x-python",
   "name": "python",
   "nbconvert_exporter": "python",
   "pygments_lexer": "ipython3",
   "version": "3.9.7"
  }
 },
 "nbformat": 4,
 "nbformat_minor": 5
}
